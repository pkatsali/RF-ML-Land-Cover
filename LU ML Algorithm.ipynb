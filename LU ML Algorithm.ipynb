{
 "cells": [
  {
   "cell_type": "markdown",
   "id": "c83a2c6e",
   "metadata": {},
   "source": [
    "# Satelite Data analysis with the use of machine learning algorithms for land use estimation"
   ]
  },
  {
   "cell_type": "markdown",
   "id": "c8514a4e",
   "metadata": {},
   "source": [
    "######### First the needed libraries need to be entered  ( if any need to be installed please do so) ############################"
   ]
  },
  {
   "cell_type": "code",
   "execution_count": null,
   "id": "04dd713c",
   "metadata": {},
   "outputs": [],
   "source": [
    "import numpy as np\n",
    "from skimage import io\n",
    "from skimage import exposure\n",
    "from skimage.color import rgb2gray\n",
    "import shutil\n",
    "import matplotlib.pyplot as plt\n",
    "from matplotlib import rcParams\n",
    "from matplotlib import cm\n",
    "from matplotlib import colors\n",
    "from matplotlib.colors import ListedColormap, LinearSegmentedColormap\n",
    "import matplotlib.patches as mpatches\n",
    "from sklearn.tree import DecisionTreeClassifier\n",
    "from sklearn.tree import plot_tree\n",
    "from sklearn.ensemble import RandomForestClassifier\n",
    "from sklearn import svm\n",
    "from sklearn.metrics import confusion_matrix\n",
    "from sklearn.metrics import ConfusionMatrixDisplay\n",
    "from sklearn.metrics import accuracy_score\n",
    "from PIL import Image\n",
    "import glob\n",
    "import os\n",
    "import rasterio\n",
    "from osgeo import gdal\n",
    "import PIL\n",
    "from PIL import TiffImagePlugin\n",
    "from shapely.geometry import Point, Polygon, box\n",
    "import torch\n",
    "import fiona\n",
    "import rasterio\n",
    "import rasterio.mask\n",
    "from rasterio.warp import calculate_default_transform, reproject, Resampling\n",
    "import geopandas as gpd\n",
    "from rasterio import plot\n",
    "from rasterio.mask import mask\n",
    "from rasterio.plot import show_hist\n",
    "import geopandas as gpd\n",
    "from rasterio.plot import show\n",
    "from rasterio.plot import plotting_extent\n",
    "import zipfile\n",
    "import warnings\n",
    "warnings.filterwarnings('ignore')\n",
    "from IPython.core.display import HTML\n",
    "from rasterio.warp import calculate_default_transform, reproject, Resampling\n",
    "from pathlib import Path\n",
    "import netCDF4 as nc\n",
    "import rasterio\n",
    "from shapely.geometry import box\n",
    "from fiona.crs import from_epsg\n",
    "from osgeo import gdal, gdalconst\n",
    "import pycrs\n",
    "from rasterio.crs import CRS\n",
    "import rioxarray as rxr\n",
    "import earthpy as et\n",
    "import xarray as xr \n",
    "import tifftools\n",
    "from tifffile import imread, imwrite"
   ]
  },
  {
   "cell_type": "markdown",
   "id": "9d5d3120",
   "metadata": {},
   "source": [
    "# The paths should be entered on the cell bellow #"
   ]
  },
  {
   "cell_type": "code",
   "execution_count": null,
   "id": "2d361e5a",
   "metadata": {},
   "outputs": [],
   "source": [
    "data_path='name of path'\n",
    "data_path_full='name of satellite image path'"
   ]
  },
  {
   "cell_type": "code",
   "execution_count": null,
   "id": "ee32da1a",
   "metadata": {},
   "outputs": [],
   "source": [
    "os.mkdir(data_path_full+'/resampled')\n",
    "resampled=data_path_full+'/resampled/'"
   ]
  },
  {
   "cell_type": "markdown",
   "id": "4241a21c",
   "metadata": {},
   "source": [
    "######### Finding band files #########\n"
   ]
  },
  {
   "cell_type": "code",
   "execution_count": null,
   "id": "5d589648",
   "metadata": {},
   "outputs": [],
   "source": [
    "\n",
    "bandPath = data_path_full\n",
    "bandNames = os.listdir(bandPath)\n",
    "bandNames.remove('resampled')\n",
    "bandNames"
   ]
  },
  {
   "cell_type": "code",
   "execution_count": null,
   "id": "94165856",
   "metadata": {},
   "outputs": [],
   "source": [
    "lst = [os.path.splitext(x)[0] for x in bandNames]\n",
    "lst"
   ]
  },
  {
   "cell_type": "markdown",
   "id": "1ea5caeb",
   "metadata": {},
   "source": [
    "# Please insert the path to the shapefile bellow #"
   ]
  },
  {
   "cell_type": "code",
   "execution_count": null,
   "id": "18bbde02",
   "metadata": {},
   "outputs": [],
   "source": [
    "aoiFile = fiona.open('path to shapefile')\n",
    "aoiGeom = [aoiFile[0]['geometry']]\n",
    "print(aoiFile.crs)"
   ]
  },
  {
   "cell_type": "markdown",
   "id": "9b4c8f66",
   "metadata": {},
   "source": [
    "########## Cropping of alla band with the shapefile #########"
   ]
  },
  {
   "cell_type": "code",
   "execution_count": null,
   "id": "d867c432",
   "metadata": {},
   "outputs": [],
   "source": [
    "import rasterio as rio\n",
    "for band in lst:\n",
    "    with rio.open(bandPath+band+'.jp2') as src:\n",
    "        out_image, out_transform=mask(src,aoiGeom,crop=True)\n",
    "        out_meta=src.meta.copy()\n",
    "        out_meta.update({\"driver\": \"GTiff\",\n",
    "                    \"height\": out_image.shape[1],\n",
    "                    \"width\": out_image.shape[2],\n",
    "                    \"transform\": out_transform}) \n",
    "    with rio.open(os.path.join(bandPath+band+'.tif'),'w',**out_meta) as dest:\n",
    "        dest.write(out_image)\n",
    "               "
   ]
  },
  {
   "cell_type": "markdown",
   "id": "3a869300",
   "metadata": {},
   "source": [
    "######### Resampling all bands to 10m resolution #########"
   ]
  },
  {
   "cell_type": "code",
   "execution_count": null,
   "id": "b9654727",
   "metadata": {},
   "outputs": [],
   "source": [
    "from osgeo import gdal, gdalconst\n",
    "bandname='T34TFL_20220408T092029_'\n",
    "bandlist=['B01','B05','B06','B07','B11','B12','B8A','B09','B10']\n",
    "referenceFile = \"B04.tif\"\n",
    "for ban in bandlist:\n",
    "    #inputfile = 'B09.tif'\n",
    "    input2 = gdal.Open(bandPath+bandname+ban+'.tif', gdalconst.GA_ReadOnly)\n",
    "    inputProj = input2.GetProjection()\n",
    "    inputTrans = input2.GetGeoTransform()\n",
    "\n",
    "#referencefile = #Path to reference file\n",
    "    reference = gdal.Open(bandPath+bandname+referenceFile, gdalconst.GA_ReadOnly)\n",
    "    referenceProj = reference.GetProjection()\n",
    "    referenceTrans = reference.GetGeoTransform()\n",
    "    bandreference = reference.GetRasterBand(1)    \n",
    "    x = reference.RasterXSize \n",
    "    y = reference.RasterYSize\n",
    "\n",
    "\n",
    "    #outputfile = 'B01t.tif'\n",
    "    driver= gdal.GetDriverByName('GTiff')\n",
    "    output = driver.Create(bandPath+bandname+ban+'s.tif',x,y,1,bandreference.DataType)\n",
    "    output.SetGeoTransform(referenceTrans)\n",
    "    output.SetProjection(referenceProj)\n",
    "\n",
    "    gdal.ReprojectImage(input2,output,inputProj,referenceProj,gdalconst.GRA_Bilinear)\n",
    "\n",
    "    del output\n",
    "    del reference\n"
   ]
  },
  {
   "cell_type": "code",
   "execution_count": null,
   "id": "0f4b3991",
   "metadata": {},
   "outputs": [],
   "source": [
    "\n",
    "usedband=['B01s','B02','B03','B04','B05s','B06s','B07s','B08','B8As','B09s','B10s','B11s','B12s']\n",
    "for name in usedband:\n",
    "    shutil.move(data_path_full+bandname+name+'.tif', resampled+bandname+name+'.tif')\n",
    " "
   ]
  },
  {
   "cell_type": "markdown",
   "id": "9c514b47",
   "metadata": {},
   "source": [
    "############ Creating indices ############"
   ]
  },
  {
   "cell_type": "code",
   "execution_count": null,
   "id": "094d9ba5",
   "metadata": {},
   "outputs": [],
   "source": [
    "import rasterio as rio\n",
    "bandname='T34TFL_20220408T092029_'\n",
    "bandlist=['B01','B05','B06','B07','B11','B12','B8A','B09','B10']\n",
    "b2=rio.open(resampled+bandname+'B02.tif')\n",
    "b3=rio.open(resampled+bandname+'B03.tif')\n",
    "b4=rio.open(resampled+bandname+'B04.tif')\n",
    "b8=rio.open(resampled+bandname+'B08.tif')\n",
    "b9=rio.open(resampled+bandname+'B09s.tif')\n",
    "b11=rio.open(resampled+bandname+'B11s.tif')\n",
    "b12=rio.open(resampled+bandname+'B12s.tif')\n",
    "\n"
   ]
  },
  {
   "cell_type": "code",
   "execution_count": null,
   "id": "bb3b64dc",
   "metadata": {},
   "outputs": [],
   "source": [
    "B2=b2.read()\n",
    "B3=b3.read()\n",
    "B4=b4.read()\n",
    "B8=b8.read()\n",
    "B9=b9.read()\n",
    "B11=b11.read()\n",
    "B12=b12.read()\n",
    "# Normalized Difference Vegetation index\n",
    "ndvi = (B8.astype(float)-B4.astype(float))/(B8+B4)\n",
    "undvi=np.nan_to_num(ndvi)\n",
    "meta = b4.meta \n",
    "meta.update(driver='GTiff')\n",
    "meta.update(dtype=rio.float32)\n",
    "with rio.open(os.path.join(resampled, 'undvi.tif'), 'w', **meta) as ds1t:\n",
    "    ds1t.write(undvi.astype(rio.float32))\n",
    "#Normalized Difference Water Index    \n",
    "ndwi=(B3.astype(float)-B8.astype(float))/(B3+B8)\n",
    "undwi=np.nan_to_num(ndwi)\n",
    "meta = b4.meta \n",
    "meta.update(driver='GTiff')\n",
    "meta.update(dtype=rio.float32)\n",
    "with rio.open(os.path.join(resampled, 'undwi.tif'), 'w', **meta) as dst2:\n",
    "    dst2.write(undwi.astype(rio.float32))\n",
    "# Normalized Difference Built-up Index    \n",
    "ndbi=(B11.astype(float)-B8.astype(float))/(B8+B11)\n",
    "undbi=np.nan_to_num(ndbi)\n",
    "meta = b4.meta \n",
    "meta.update(driver='GTiff')\n",
    "meta.update(dtype=rio.float32)\n",
    "with rio.open(os.path.join(resampled, 'undbi.tif'), 'w', **meta) as dst3:\n",
    "    dst3.write(undbi.astype(rio.float32)) \n",
    "#Built-up Index    \n",
    "bui=ndbi-ndvi  \n",
    "bui[np.isinf(bui)]=10\n",
    "ubui=np.nan_to_num(bui)\n",
    "meta = b4.meta \n",
    "meta.update(driver='GTiff')\n",
    "meta.update(dtype=rio.float32)\n",
    "with rio.open(os.path.join(resampled, 'ubui.tif'), 'w', **meta) as dst4:\n",
    "    dst4.write(ubui.astype(rio.float32))    \n",
    "# Bare Soil Index    \n",
    "bsi=((B11+B4)-(B8+B2))/((B11+B4)+(B8+B2))\n",
    "bsi[np.isinf(bsi)]=10\n",
    "ubsi=np.nan_to_num(bsi)\n",
    "meta = b4.meta \n",
    "meta.update(driver='GTiff')\n",
    "meta.update(dtype=rio.float32)\n",
    "with rio.open(os.path.join(resampled, 'ubsi.tif'), 'w', **meta) as dst4:\n",
    "    dst4.write(ubsi.astype(rio.float32)) \n",
    "# Green Chlorophyl  Index\n",
    "gci=(B9/B3)-1\n",
    "gci[np.isinf(gci)]=10\n",
    "ugci=np.nan_to_num(gci)\n",
    "meta = b4.meta \n",
    "meta.update(driver='GTiff')\n",
    "meta.update(dtype=rio.float32)\n",
    "with rio.open(os.path.join(resampled, 'ugci.tif'), 'w', **meta) as dst4:\n",
    "    dst4.write(ugci.astype(rio.float32))\n",
    "# Moisture Stress Index\n",
    "msi=(B11/B8)\n",
    "msi[np.isinf(msi)]=10\n",
    "umsi=np.nan_to_num(msi)\n",
    "meta = b4.meta \n",
    "meta.update(driver='GTiff')\n",
    "meta.update(dtype=rio.float32)\n",
    "with rio.open(os.path.join(resampled, 'umsi.tif'), 'w', **meta) as dst4:\n",
    "    dst4.write(umsi.astype(rio.float32))"
   ]
  },
  {
   "cell_type": "markdown",
   "id": "b33875ea",
   "metadata": {},
   "source": [
    "######### Visualization of target area #######"
   ]
  },
  {
   "cell_type": "code",
   "execution_count": null,
   "id": "588592c5",
   "metadata": {},
   "outputs": [],
   "source": [
    "def composition(band1,band2,band3):\n",
    "    im_comp=np.dstack([band1/band1.max(), band2/band2.max(), band3/band3.max()])\n",
    "    for i in range(3):\n",
    "        v_min, v_max = np.percentile(im_comp[:,:,i],(1,98))\n",
    "        im_comp[:,:,i] = exposure.rescale_intensity(im_comp[:,:,i],in_range=(v_min,v_max))\n",
    "    return im_comp"
   ]
  },
  {
   "cell_type": "code",
   "execution_count": null,
   "id": "cfb8357d",
   "metadata": {},
   "outputs": [],
   "source": [
    "\n",
    "\n",
    "coll = io.ImageCollection(resampled + '*.tif')\n",
    "\n",
    "# a list of loaded files\n",
    "print(coll.files)\n",
    "\n",
    "band_names=['B1','B2','B3','B4','B5','B6','B7','B8','B8A','B9','B10','B11','B12','BSI','BUI','GCI','MSI','NDBI','NDVI','NDWI']"
   ]
  },
  {
   "cell_type": "code",
   "execution_count": null,
   "id": "c5091a71",
   "metadata": {},
   "outputs": [],
   "source": [
    "im_comp = composition(coll[3],coll[2],coll[1])\n",
    "fig=plt.figure(figsize=(20,10))\n",
    "plt.imshow(im_comp)"
   ]
  },
  {
   "cell_type": "markdown",
   "id": "108b69d1",
   "metadata": {},
   "source": [
    "# Please insert training files path bellow #"
   ]
  },
  {
   "cell_type": "code",
   "execution_count": null,
   "id": "69a74148",
   "metadata": {},
   "outputs": [],
   "source": [
    "trainpath='insert train path here'\n",
    "p_water = np.loadtxt(trainpath+'water.txt',dtype='int')\n",
    "p_shallow_water=np.loadtxt(trainpath+'shallow_water.txt',dtype='int')\n",
    "p_concrete = np.loadtxt(trainpath+'concrete.txt',dtype='int')\n",
    "p_brick=np.loadtxt(trainpath+'brick.txt', dtype='int')\n",
    "p_dry_soil_crop=np.loadtxt(trainpath+'dry_soil_and_dry_crop.txt', dtype='int')\n",
    "p_wet_soil=np.loadtxt(trainpath+'wet_ soil.txt', dtype='int')\n",
    "p_low_veg = np.loadtxt(trainpath+'low_vegetation.txt',dtype='int')\n",
    "p_trees = np.loadtxt(trainpath+'tree_cover.txt',dtype='int')\n",
    "\n",
    "LC_class_names = ['water', 'shallow water','concrete','brick','wet soil','dry soil and crop','low veg','tree cover']\n",
    "#LC_class_names = ['water', 'artificial', 'low vegetation', 'tree cover']"
   ]
  },
  {
   "cell_type": "markdown",
   "id": "c31a1a52",
   "metadata": {},
   "source": [
    "######## visualization of training points #######"
   ]
  },
  {
   "cell_type": "code",
   "execution_count": null,
   "id": "fdfd46e6",
   "metadata": {},
   "outputs": [],
   "source": [
    "# marking the classes examples\n",
    "im_comp_p=np.zeros(im_comp.shape)\n",
    "im_comp_p[:,:,0]=rgb2gray(im_comp)\n",
    "im_comp_p[:,:,1]=rgb2gray(im_comp)\n",
    "im_comp_p[:,:,2]=rgb2gray(im_comp)\n",
    "\n",
    "# marking in blue the training points for 'water' class\n",
    "im_comp_p[p_water[:,1],p_water[:,0],0] =0\n",
    "im_comp_p[p_water[:,1],p_water[:,0],1] =0\n",
    "im_comp_p[p_water[:,1],p_water[:,0],2] =1\n",
    "\n",
    "# marking in bright blue the training points for 'shallow water' class\n",
    "im_comp_p[p_shallow_water[:,1],p_shallow_water[:,0],0] =0\n",
    "im_comp_p[p_shallow_water[:,1],p_shallow_water[:,0],1] =1\n",
    "im_comp_p[p_shallow_water[:,1],p_shallow_water[:,0],2] =1\n",
    "\n",
    "# marking in white the training points for 'concrete' class\n",
    "im_comp_p[p_concrete[:,1],p_concrete[:,0],0] =1\n",
    "im_comp_p[p_concrete[:,1],p_concrete[:,0],1] =1\n",
    "im_comp_p[p_concrete[:,1],p_concrete[:,0],2] =1\n",
    "\n",
    "# marking in red the training points for 'brick' class\n",
    "im_comp_p[p_brick[:,1],p_brick[:,0],0] =1\n",
    "im_comp_p[p_brick[:,1],p_brick[:,0],1] =0\n",
    "im_comp_p[p_brick[:,1],p_brick[:,0],2] =0\n",
    "\n",
    "# marking in purple the training points for 'dry soil and crop' class\n",
    "im_comp_p[p_dry_soil_crop[:,1],p_dry_soil_crop[:,0],0] =0.255\n",
    "im_comp_p[p_dry_soil_crop[:,1],p_dry_soil_crop[:,0],1] =0.211\n",
    "im_comp_p[p_dry_soil_crop[:,1],p_dry_soil_crop[:,0],2] =0.67\n",
    "\n",
    "# marking in pink the training points for 'wet soil' class\n",
    "im_comp_p[p_wet_soil[:,1],p_wet_soil[:,0],0] =0.82\n",
    "im_comp_p[p_wet_soil[:,1],p_wet_soil[:,0],1] =0.3\n",
    "im_comp_p[p_wet_soil[:,1],p_wet_soil[:,0],2] =0.7\n",
    "\n",
    "# marking in yellow the training points for 'low vegetation' class\n",
    "im_comp_p[p_low_veg[:,1],p_low_veg[:,0],0] =1\n",
    "im_comp_p[p_low_veg[:,1],p_low_veg[:,0],1] =1\n",
    "im_comp_p[p_low_veg[:,1],p_low_veg[:,0],2] =0\n",
    "\n",
    "# marking in green the training points for 'tree cover' class\n",
    "im_comp_p[p_trees[:,1],p_trees[:,0],0] =0\n",
    "im_comp_p[p_trees[:,1],p_trees[:,0],1] =1\n",
    "im_comp_p[p_trees[:,1],p_trees[:,0],2] =0\n",
    "\n",
    "\n",
    "\n",
    "plt.figure(figsize=(20,10))\n",
    "plt.imshow(im_comp_p)\n",
    " "
   ]
  },
  {
   "cell_type": "markdown",
   "id": "a4a0842b",
   "metadata": {},
   "source": [
    "########### Stacking the classes examples #########"
   ]
  },
  {
   "cell_type": "code",
   "execution_count": null,
   "id": "0b0f350c",
   "metadata": {},
   "outputs": [],
   "source": [
    "bands=[]\n",
    "for i in range(len(coll)):\n",
    "    band = np.asarray(coll[i].data)[p_water[:,1],p_water[:,0]]\n",
    "    bands.append(band)\n",
    "X_water=np.stack(bands).T\n",
    "print(X_water.shape)\n",
    "\n",
    "bands=[]\n",
    "for i in range(len(coll)):\n",
    "    band = np.asarray(coll[i].data)[p_shallow_water[:,1],p_shallow_water[:,0]]\n",
    "    bands.append(band)\n",
    "X_shallow_water=np.stack(bands).T\n",
    "print(X_shallow_water.shape)\n",
    "\n",
    "bands=[]\n",
    "for i in range(len(coll)):\n",
    "    band = np.asarray(coll[i].data)[p_concrete[:,1],p_concrete[:,0]]\n",
    "    bands.append(band)\n",
    "X_concrete=np.stack(bands).T\n",
    "print(X_concrete.shape)\n",
    "\n",
    "bands=[]\n",
    "for i in range(len(coll)):\n",
    "    band = np.asarray(coll[i].data)[p_brick[:,1],p_brick[:,0]]\n",
    "    bands.append(band)\n",
    "X_brick=np.stack(bands).T\n",
    "print(X_brick.shape)\n",
    "\n",
    "bands=[]\n",
    "for i in range(len(coll)):\n",
    "    band = np.asarray(coll[i].data)[p_dry_soil_crop[:,1],p_dry_soil_crop[:,0]]\n",
    "    bands.append(band)\n",
    "X_dry_soil_crop=np.stack(bands).T\n",
    "print(X_dry_soil_crop.shape)\n",
    "\n",
    "bands=[]\n",
    "for i in range(len(coll)):\n",
    "    band = np.asarray(coll[i].data)[p_wet_soil[:,1],p_wet_soil[:,0]]\n",
    "    bands.append(band)\n",
    "X_wet_soil=np.stack(bands).T\n",
    "print(X_wet_soil.shape)\n",
    "\n",
    "bands=[]\n",
    "for i in range(len(coll)):\n",
    "    band = np.asarray(coll[i].data)[p_low_veg[:,1],p_low_veg[:,0]]\n",
    "    bands.append(band)\n",
    "X_low_veg=np.stack(bands).T\n",
    "print(X_low_veg.shape)\n",
    "\n",
    "bands=[]\n",
    "for i in range(len(coll)):\n",
    "    band = np.asarray(coll[i].data)[p_trees[:,1],p_trees[:,0]]\n",
    "    bands.append(band)\n",
    "X_trees=np.stack(bands).T\n",
    "print(X_trees.shape)\n",
    "\n",
    "\n",
    "# stacking data for all classes in one table\n",
    "X=np.vstack((X_water,X_shallow_water,X_concrete,X_brick,X_dry_soil_crop,X_wet_soil,X_low_veg,X_trees))\n",
    "# add X_brick after X_concrete for all the learning stacks\n",
    "print(X.shape)\n",
    "y=np.vstack((np.ones((X_water.shape[0], 1)),\n",
    "             2*np.ones((X_shallow_water.shape[0], 1)),\n",
    "             3*np.ones((X_concrete.shape[0], 1)),\n",
    "             4*np.ones((X_brick.shape[0], 1)),\n",
    "             5*np.ones((X_dry_soil_crop.shape[0], 1)),\n",
    "             6*np.ones((X_wet_soil.shape[0], 1)),\n",
    "             7*np.ones((X_low_veg.shape[0], 1)),\n",
    "             8*np.ones((X_trees.shape[0], 1))))\n",
    "\n",
    "print(y.shape)"
   ]
  },
  {
   "cell_type": "markdown",
   "id": "75312f8c",
   "metadata": {},
   "source": [
    "# K-fold Cross validation #"
   ]
  },
  {
   "cell_type": "code",
   "execution_count": null,
   "id": "5ffa0cab",
   "metadata": {},
   "outputs": [],
   "source": [
    "from numpy import mean\n",
    "from numpy import std\n",
    "from sklearn.datasets import make_classification\n",
    "from sklearn.model_selection import KFold\n",
    "from sklearn.model_selection import cross_val_score\n",
    "from sklearn.linear_model import LogisticRegression\n",
    "from sklearn.metrics import confusion_matrix\n",
    "\n",
    "# https://scikit-learn.org/0.15/modules/generated/sklearn.cross_validation.KFold.html\n",
    "true = []; pred = []\n",
    "\n",
    "kfold = KFold(n_splits=10, random_state=42, shuffle=True)\n",
    "for train_index, test_index in kfold.split(X):\n",
    "    model = RandomForestClassifier(n_estimators=100, max_depth=5,random_state=42)\n",
    "    \n",
    "    x_train = X[train_index]; x_test = X[test_index]\n",
    "    y_train = y[train_index]; y_test = y[test_index]\n",
    "    \n",
    "    model.fit(x_train, y_train)\n",
    "    predictions = model.predict(x_test)\n",
    "    \n",
    "    true.append(y_test)\n",
    "    pred.append(predictions)\n",
    "    \n",
    "cv_results = cross_val_score(model, X, y, cv=kfold, scoring='accuracy', verbose=10)\n",
    "\n",
    "print(cv_results.mean(), cv_results.std())\n",
    "cf=confusion_matrix(np.concatenate(true), np.concatenate(pred)"
   ]
  },
  {
   "cell_type": "code",
   "execution_count": null,
   "id": "09a37a2e",
   "metadata": {},
   "outputs": [],
   "source": [
    "def plot_confusion_matrix(cm,\n",
    "                          target_names,\n",
    "                          title='Confusion matrix',\n",
    "                          cmap=None,\n",
    "                          normalize=True):\n",
    "    \"\"\"\n",
    "    given a sklearn confusion matrix (cm), make a nice plot\n",
    "\n",
    "    Arguments\n",
    "    ---------\n",
    "    cm:           confusion matrix from sklearn.metrics.confusion_matrix\n",
    "\n",
    "    target_names: given classification classes such as [0, 1, 2]\n",
    "                  the class names, for example: ['high', 'medium', 'low']\n",
    "\n",
    "    title:        the text to display at the top of the matrix\n",
    "\n",
    "    cmap:         the gradient of the values displayed from matplotlib.pyplot.cm\n",
    "                  see http://matplotlib.org/examples/color/colormaps_reference.html\n",
    "                  plt.get_cmap('jet') or plt.cm.Blues\n",
    "\n",
    "    normalize:    If False, plot the raw numbers\n",
    "                  If True, plot the proportions\n",
    "\n",
    "    Usage\n",
    "    -----\n",
    "    plot_confusion_matrix(cm           = cm,                  # confusion matrix created by\n",
    "                                                              # sklearn.metrics.confusion_matrix\n",
    "                          normalize    = True,                # show proportions\n",
    "                          target_names = y_labels_vals,       # list of names of the classes\n",
    "                          title        = best_estimator_name) # title of graph\n",
    "\n",
    "    Citiation\n",
    "    ---------\n",
    "    http://scikit-learn.org/stable/auto_examples/model_selection/plot_confusion_matrix.html\n",
    "\n",
    "    \"\"\"\n",
    "    import matplotlib.pyplot as plt\n",
    "    import numpy as np\n",
    "    import itertools\n",
    "\n",
    "    accuracy = np.trace(cm) / np.sum(cm).astype('float')\n",
    "    misclass = 1 - accuracy\n",
    "\n",
    "    if cmap is None:\n",
    "        cmap = plt.get_cmap('Blues')\n",
    "\n",
    "    plt.figure(figsize=(8, 6))\n",
    "    plt.imshow(cm, interpolation='nearest', cmap=cmap)\n",
    "    plt.title(title)\n",
    "    plt.colorbar()\n",
    "\n",
    "    if target_names is not None:\n",
    "        tick_marks = np.arange(len(target_names))\n",
    "        plt.xticks(tick_marks, target_names, rotation=45)\n",
    "        plt.yticks(tick_marks, target_names)\n",
    "\n",
    "    if normalize:\n",
    "        cm = cm.astype('float') / cm.sum(axis=1)[:, np.newaxis]\n",
    "\n",
    "\n",
    "    thresh = cm.max() / 1.5 if normalize else cm.max() / 2\n",
    "    for i, j in itertools.product(range(cm.shape[0]), range(cm.shape[1])):\n",
    "        if normalize:\n",
    "            plt.text(j, i, \"{:0.4f}\".format(cm[i, j]),\n",
    "                     horizontalalignment=\"center\",\n",
    "                     color=\"white\" if cm[i, j] > thresh else \"black\")\n",
    "        else:\n",
    "            plt.text(j, i, \"{:,}\".format(cm[i, j]),\n",
    "                     horizontalalignment=\"center\",\n",
    "                     color=\"white\" if cm[i, j] > thresh else \"black\")\n",
    "\n",
    "\n",
    "    plt.tight_layout()\n",
    "    plt.ylabel('True label')\n",
    "    #plt.xlabel('Predicted label\\naccuracy={:0.4f}; misclass={:0.4f}'.format(accuracy, misclass))\n",
    "    plt.show()"
   ]
  },
  {
   "cell_type": "code",
   "execution_count": null,
   "id": "19975ce4",
   "metadata": {},
   "outputs": [],
   "source": [
    "labels=['water','shallow water','urban','brick','dry soil & veg','wet soil','low veg','trees']\n",
    "plot_confusion_matrix(cf,labels,title='Confusion matrix',cmap='YlGnBu', normalize=False)"
   ]
  },
  {
   "cell_type": "markdown",
   "id": "30c4c3d3",
   "metadata": {},
   "source": [
    "# Random forest creation and data classification"
   ]
  },
  {
   "cell_type": "code",
   "execution_count": null,
   "id": "2f2183a5",
   "metadata": {},
   "outputs": [],
   "source": [
    "rf_clf = RandomForestClassifier(n_estimators=100,\n",
    "                             max_depth=5,\n",
    "                             random_state=42)    \n",
    "\n",
    "rf_clf.fit(X, np.ravel(y))"
   ]
  },
  {
   "cell_type": "code",
   "execution_count": null,
   "id": "87f25b32",
   "metadata": {},
   "outputs": [],
   "source": [
    "N=10\n",
    "\n",
    "for i in range(N):\n",
    "    fig = plt.figure(figsize=(40,20))\n",
    "    plot_tree(rf_clf.estimators_[i],\n",
    "              feature_names = band_names, \n",
    "              class_names = LC_class_names ) \n",
    "    plt.show()"
   ]
  },
  {
   "cell_type": "code",
   "execution_count": null,
   "id": "51f1beba",
   "metadata": {},
   "outputs": [],
   "source": [
    "bands=[]\n",
    "for i in range(len(coll)):\n",
    "    band = np.asarray(coll[i].data).flatten()\n",
    "    bands.append(band)\n",
    "\n",
    "X_all=np.stack(bands).T\n",
    "X_all.shape\n"
   ]
  },
  {
   "cell_type": "code",
   "execution_count": null,
   "id": "ce3b2fca",
   "metadata": {},
   "outputs": [],
   "source": [
    "%%time\n",
    "Y_pred_rf = rf_clf.predict(X_all)\n"
   ]
  },
  {
   "cell_type": "code",
   "execution_count": null,
   "id": "6b03ae8f",
   "metadata": {},
   "outputs": [],
   "source": [
    "Y_im_rf = Y_pred_rf.reshape(coll[1].shape)\n",
    "Y_im_rf.shape\n"
   ]
  },
  {
   "cell_type": "code",
   "execution_count": null,
   "id": "e700c379",
   "metadata": {},
   "outputs": [],
   "source": [
    "\n",
    "Y_im_rf"
   ]
  },
  {
   "cell_type": "markdown",
   "id": "6f70a457",
   "metadata": {},
   "source": [
    "# Result visualization"
   ]
  },
  {
   "cell_type": "code",
   "execution_count": null,
   "id": "783bc7a0",
   "metadata": {},
   "outputs": [],
   "source": [
    "ccm= ListedColormap([\"midnightblue\",\"teal\",\"dimgrey\",\"black\",\"khaki\",\"saddlebrown\",\"lime\",\"darkgreen\"]) # custom colormap\n",
    "water=mpatches.Patch(color='midnightblue',label='water')\n",
    "shallowwater=mpatches.Patch(color='teal',label='shallow water')\n",
    "concrete=mpatches.Patch(color='dimgrey',label='urban')\n",
    "brick=mpatches.Patch(color='black',label='brick')\n",
    "drs=mpatches.Patch(color='khaki',label='dry soil and vegetation')\n",
    "ws=mpatches.Patch(color='saddlebrown',label='wet soil')\n",
    "lv=mpatches.Patch(color='lime',label='low vegetation')\n",
    "tr=mpatches.Patch(color='darkgreen',label='trees')\n"
   ]
  },
  {
   "cell_type": "code",
   "execution_count": null,
   "id": "26565391",
   "metadata": {},
   "outputs": [],
   "source": [
    "from PIL import Image\n",
    "import rasterio as rio\n",
    "im=Image.fromarray(Y_im_rf)\n",
    "im.save('ts2.tif')\n",
    "b4=rio.open(reproject+'B4.tif')\n",
    "i=rio.open('ts2.tif')\n",
    "B4=b4.read()\n",
    "Im=i.read()\n",
    "meta = b4.meta \n",
    "meta.update(driver='GTiff')\n",
    "meta.update(dtype=rio.float32)\n",
    "with rio.open(os.path.join(data_path_full, 'Full Classification.tif'), 'w', **meta) as dst:\n",
    "    dst.write(Im.astype(rio.float32))"
   ]
  },
  {
   "cell_type": "code",
   "execution_count": null,
   "id": "540e24e8",
   "metadata": {},
   "outputs": [],
   "source": [
    "#img=rio.open(os.path.join(data_path_full, 'tci.tif'))\n",
    "cls=rio.open(os.path.join(data_path_full, 'Full Classification.tif'))\n",
    "c=cls.read()\n",
    "plt.figure(1,figsize=(20,10))\n",
    "plt.title('Satellite Image')\n",
    "plt.ylabel('Northing (m)')\n",
    "plt.xlabel('Easting (m)')\n",
    "plt.imshow(im_comp)\n",
    "\n",
    "fig=plt.figure(2,figsize=(20,10))\n",
    "plt.legend(handles=[water,shallowwater,concrete,brick,drs,ws,lv,tr],bbox_to_anchor=(1.04,1), loc=\"upper left\")\n",
    "plt.title('Classification')\n",
    "plt.ylabel('Northing (m)')\n",
    "plt.xlabel('Easting (m)')\n",
    "#plt.savefig(\"ts.jpeg\",dpi=600)\n",
    "show(cls,cmap=ccm,interpolation='none')\n",
    "fig.savefig(data_path_full+\"Full Classification.jpeg\",dpi=600)\n",
    "plt.close()\n"
   ]
  },
  {
   "cell_type": "code",
   "execution_count": null,
   "id": "7295ca59",
   "metadata": {},
   "outputs": [],
   "source": []
  }
 ],
 "metadata": {
  "kernelspec": {
   "display_name": "Python 3 (ipykernel)",
   "language": "python",
   "name": "python3"
  },
  "language_info": {
   "codemirror_mode": {
    "name": "ipython",
    "version": 3
   },
   "file_extension": ".py",
   "mimetype": "text/x-python",
   "name": "python",
   "nbconvert_exporter": "python",
   "pygments_lexer": "ipython3",
   "version": "3.8.12"
  }
 },
 "nbformat": 4,
 "nbformat_minor": 5
}
